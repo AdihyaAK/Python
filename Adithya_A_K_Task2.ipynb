{
  "nbformat": 4,
  "nbformat_minor": 0,
  "metadata": {
    "colab": {
      "provenance": []
    },
    "kernelspec": {
      "name": "python3",
      "display_name": "Python 3"
    },
    "language_info": {
      "name": "python"
    }
  },
  "cells": [
    {
      "cell_type": "markdown",
      "source": [
        "1.Create a function with a default argument\n",
        "Write a program to create a function show_employee() using the following\n",
        "conditions.\n",
        "● It should accept the employee’s name and salary and display both.\n",
        "● If the salary is missing in the function call then assign default value\n",
        "9000 to salary"
      ],
      "metadata": {
        "id": "LpUofo_2xBq1"
      }
    },
    {
      "cell_type": "code",
      "execution_count": null,
      "metadata": {
        "id": "5bJCvEbBxABG"
      },
      "outputs": [],
      "source": [
        "def show_employee(name, salary=9000):\n",
        "  print(\"Employees name: \" + name)\n",
        "  print(\"Employees salary: \" +str(salary))"
      ]
    },
    {
      "cell_type": "code",
      "source": [
        "show_employee(\"Albert\",25000)"
      ],
      "metadata": {
        "colab": {
          "base_uri": "https://localhost:8080/"
        },
        "id": "9pQrFkQ2y4J5",
        "outputId": "fe6815e9-717d-4603-aa2d-419125a9125c"
      },
      "execution_count": null,
      "outputs": [
        {
          "output_type": "stream",
          "name": "stdout",
          "text": [
            "Employees name: Albert\n",
            "Employees salary: 25000\n"
          ]
        }
      ]
    },
    {
      "cell_type": "code",
      "source": [
        "show_employee(\"Aleena\")"
      ],
      "metadata": {
        "colab": {
          "base_uri": "https://localhost:8080/"
        },
        "id": "N5fJK_VHzQ67",
        "outputId": "088031ea-68bd-4ecd-9cef-28c38493999a"
      },
      "execution_count": null,
      "outputs": [
        {
          "output_type": "stream",
          "name": "stdout",
          "text": [
            "Employees name: Aleena\n",
            "Employees salary: 9000\n"
          ]
        }
      ]
    },
    {
      "cell_type": "markdown",
      "source": [
        "2: Create an inner function to calculate the\n",
        "addition in the following way\n",
        "● Create an outer function that will accept two parameters, a and b\n",
        "● Create an inner function inside an outer function that will calculate\n",
        "the addition of a and b\n",
        "● At last, an outer function will add 5 into addition and return it\n"
      ],
      "metadata": {
        "id": "N7yH9QDgzs3n"
      }
    },
    {
      "cell_type": "code",
      "source": [
        "def outer_function(a,b):\n",
        "  def inner_function(x,y):\n",
        "    return x+y\n",
        "\n",
        "  addition_result = inner_function(a,b)\n",
        "  final_result = addition_result + 5\n",
        "  return final_result\n"
      ],
      "metadata": {
        "id": "ccdw5xlpzvyx"
      },
      "execution_count": null,
      "outputs": []
    },
    {
      "cell_type": "code",
      "source": [
        "result = outer_function(3,7)\n",
        "print(result)"
      ],
      "metadata": {
        "colab": {
          "base_uri": "https://localhost:8080/"
        },
        "id": "otLJ5J6g0mYt",
        "outputId": "b0306576-8bbf-4cf1-9452-0ff7aba1f92c"
      },
      "execution_count": null,
      "outputs": [
        {
          "output_type": "stream",
          "name": "stdout",
          "text": [
            "15\n"
          ]
        }
      ]
    },
    {
      "cell_type": "markdown",
      "source": [
        "3: Generate a Python list of all the even numbers\n",
        "between 4 to 30"
      ],
      "metadata": {
        "id": "nZuaZbSQ0118"
      }
    },
    {
      "cell_type": "code",
      "source": [
        "for x in range(4,31):\n",
        "  if x%2==0:\n",
        "    print(x)"
      ],
      "metadata": {
        "colab": {
          "base_uri": "https://localhost:8080/"
        },
        "id": "BB6_Eisy09PH",
        "outputId": "494ee261-314b-4598-e4ef-eb0b625e3bf8"
      },
      "execution_count": null,
      "outputs": [
        {
          "output_type": "stream",
          "name": "stdout",
          "text": [
            "4\n",
            "6\n",
            "8\n",
            "10\n",
            "12\n",
            "14\n",
            "16\n",
            "18\n",
            "20\n",
            "22\n",
            "24\n",
            "26\n",
            "28\n",
            "30\n"
          ]
        }
      ]
    },
    {
      "cell_type": "markdown",
      "source": [
        " 4: Lambda Function to Check if value is in a List\n",
        "Given a list, the task is to write a Python program to check if the value exists in the list or not\n",
        "using the lambda function.\n",
        "Input : L = [1, 2, 3, 4, 5]\n",
        "element = 4\n",
        "Output : Element is Present in the list\n",
        "Input : L = [1, 2, 3, 4, 5]\n",
        "element = 8\n",
        "Output : Element is NOT Present in the list"
      ],
      "metadata": {
        "id": "2AYyf0WMzcyx"
      }
    },
    {
      "cell_type": "code",
      "source": [
        "L1 = [1, 2, 3, 4, 5]\n",
        "element = 4\n",
        "\n",
        "x = lambda L1,element: True if element in L1 else False\n",
        "\n",
        "if(x(L1,element)):\n",
        "  print(\"Element is present in the list\")\n",
        "\n",
        "else:\n",
        "  print(\"Element is not present in the list\")\n",
        "\n",
        "\n"
      ],
      "metadata": {
        "id": "omUPltAOisGX",
        "colab": {
          "base_uri": "https://localhost:8080/"
        },
        "outputId": "2e7ba771-eddc-433b-864d-1c184daaa1b8"
      },
      "execution_count": null,
      "outputs": [
        {
          "output_type": "stream",
          "name": "stdout",
          "text": [
            "Element is present in the list\n"
          ]
        }
      ]
    },
    {
      "cell_type": "code",
      "source": [
        "check_element = lambda L,element:\"Element is present in the list\" if list(filter(lambda x:x == element,L)) else \"Element is not present in the list\"\n",
        "\n",
        "L1 =  [1, 2, 3, 4, 5]\n",
        "element1 = 4\n",
        "output1 = check_element(L1,element1)\n",
        "print(output1)\n",
        "\n",
        "L2 =  [1, 2, 3, 4, 5]\n",
        "element2 = 8\n",
        "output2 = check_element(L2,element2)\n",
        "print(output2)"
      ],
      "metadata": {
        "colab": {
          "base_uri": "https://localhost:8080/"
        },
        "id": "AGaMDehW_TiF",
        "outputId": "f26cb24d-51c4-413e-b06e-df12fa0010d2"
      },
      "execution_count": null,
      "outputs": [
        {
          "output_type": "stream",
          "name": "stdout",
          "text": [
            "Element is present in the list\n",
            "Element is not present in the list\n"
          ]
        }
      ]
    },
    {
      "cell_type": "markdown",
      "source": [
        " 5: Sort list of tuples with their sum\n",
        "Sort the points based on their sum of elements in the tuples\n",
        "points = [(1, 2), (5, 3), (0, 7), (3, 1)]"
      ],
      "metadata": {
        "id": "2DQyhb5Jistq"
      }
    },
    {
      "cell_type": "code",
      "source": [
        "def sorted_points():\n",
        " points = [(1, 2), (5, 3), (0, 7), (3, 1)]\n",
        " sorted_points = sorted(points, key = lambda x: sum(x))\n",
        " print(sorted_points)\n"
      ],
      "metadata": {
        "id": "Z3ijZ8Pgi7vV"
      },
      "execution_count": null,
      "outputs": []
    },
    {
      "cell_type": "code",
      "source": [
        "sorted_points()"
      ],
      "metadata": {
        "colab": {
          "base_uri": "https://localhost:8080/"
        },
        "id": "Q1l062Y5lbX5",
        "outputId": "fabbe361-0863-46b0-da81-b794bd7bff84"
      },
      "execution_count": null,
      "outputs": [
        {
          "output_type": "stream",
          "name": "stdout",
          "text": [
            "[(1, 2), (3, 1), (0, 7), (5, 3)]\n"
          ]
        }
      ]
    },
    {
      "cell_type": "markdown",
      "source": [
        "6:Write a python function, which will find all such numbers between 1000 and 3000 (both\n",
        "included) such that each digit of the number is an even number. Return the results as a list"
      ],
      "metadata": {
        "id": "qCeahiBHoCqc"
      }
    },
    {
      "cell_type": "code",
      "source": [
        "def result():\n",
        "  result= []\n",
        "  for num  in range(1000, 3001):\n",
        "    digits = [int(digit) for digit in str(num)]\n",
        "    if all(digit % 2 == 0 for digit in digits):\n",
        "      result.append(num)\n",
        "  print(result)"
      ],
      "metadata": {
        "id": "9c0x-b1DoIOx"
      },
      "execution_count": null,
      "outputs": []
    },
    {
      "cell_type": "code",
      "source": [
        "result()"
      ],
      "metadata": {
        "colab": {
          "base_uri": "https://localhost:8080/"
        },
        "id": "w42CGdWXqCOF",
        "outputId": "f2b26263-f198-4bcf-e30f-a6dd22924965"
      },
      "execution_count": null,
      "outputs": [
        {
          "output_type": "stream",
          "name": "stdout",
          "text": [
            "[2000, 2002, 2004, 2006, 2008, 2020, 2022, 2024, 2026, 2028, 2040, 2042, 2044, 2046, 2048, 2060, 2062, 2064, 2066, 2068, 2080, 2082, 2084, 2086, 2088, 2200, 2202, 2204, 2206, 2208, 2220, 2222, 2224, 2226, 2228, 2240, 2242, 2244, 2246, 2248, 2260, 2262, 2264, 2266, 2268, 2280, 2282, 2284, 2286, 2288, 2400, 2402, 2404, 2406, 2408, 2420, 2422, 2424, 2426, 2428, 2440, 2442, 2444, 2446, 2448, 2460, 2462, 2464, 2466, 2468, 2480, 2482, 2484, 2486, 2488, 2600, 2602, 2604, 2606, 2608, 2620, 2622, 2624, 2626, 2628, 2640, 2642, 2644, 2646, 2648, 2660, 2662, 2664, 2666, 2668, 2680, 2682, 2684, 2686, 2688, 2800, 2802, 2804, 2806, 2808, 2820, 2822, 2824, 2826, 2828, 2840, 2842, 2844, 2846, 2848, 2860, 2862, 2864, 2866, 2868, 2880, 2882, 2884, 2886, 2888]\n"
          ]
        }
      ]
    },
    {
      "cell_type": "markdown",
      "source": [
        "7: Write a python function that accepts a sentence and calculate and return the number of letters\n",
        "and digits.\n",
        "Suppose the following input is supplied to the program:\n",
        "hello world! 123\n",
        "Then, the output should be:\n",
        "LETTERS 10\n",
        "DIGITS 3\n"
      ],
      "metadata": {
        "id": "bZxHOq8UqwVb"
      }
    },
    {
      "cell_type": "code",
      "source": [
        "def result(sentence):\n",
        "  letters = 0\n",
        "  digits = 0\n",
        "\n",
        "  for let in sentence:\n",
        "    if let.isalpha():\n",
        "      letters+=1\n",
        "    elif let.isnumeric():\n",
        "      digits+=1\n",
        "  return letters , digits\n",
        "letters , digits = result(\"Hello world!123\")\n",
        "print(\"LETTERS \", letters)\n",
        "print(\"DIGITS \" , digits)"
      ],
      "metadata": {
        "colab": {
          "base_uri": "https://localhost:8080/"
        },
        "id": "Km8aGJUiqEP1",
        "outputId": "87d550dd-a6b7-4431-f613-71f6debab654"
      },
      "execution_count": null,
      "outputs": [
        {
          "output_type": "stream",
          "name": "stdout",
          "text": [
            "LETTERS  10\n",
            "DIGITS  3\n"
          ]
        }
      ]
    },
    {
      "cell_type": "markdown",
      "source": [
        "8:Write a Python program to convert all the characters into uppercase and\n",
        "lowercase and eliminate duplicate letters from a given sequence. Use the map()\n",
        "function"
      ],
      "metadata": {
        "id": "YDy9XYEkaXAE"
      }
    },
    {
      "cell_type": "code",
      "source": [
        "out = map(lambda x: x.upper(), [\"apple\",\"banana\",\"orange\"])\n",
        "output = list(out)\n",
        "print(output)\n"
      ],
      "metadata": {
        "id": "mQsJ3i5rfnsf",
        "colab": {
          "base_uri": "https://localhost:8080/"
        },
        "outputId": "b25aa872-570c-46bc-95ab-dc05c74eb543"
      },
      "execution_count": null,
      "outputs": [
        {
          "output_type": "stream",
          "name": "stdout",
          "text": [
            "['APPLE', 'BANANA', 'ORANGE']\n"
          ]
        }
      ]
    },
    {
      "cell_type": "code",
      "source": [
        "out = map(lambda x: x.lower(),['APPLE', 'BANANA', 'ORANGE'])\n",
        "output = list(out)\n",
        "print(output)"
      ],
      "metadata": {
        "colab": {
          "base_uri": "https://localhost:8080/"
        },
        "id": "x3HPTZ70nDxK",
        "outputId": "01afbcbc-b839-476d-f950-8f3d977d6686"
      },
      "execution_count": null,
      "outputs": [
        {
          "output_type": "stream",
          "name": "stdout",
          "text": [
            "['apple', 'banana', 'orange']\n"
          ]
        }
      ]
    },
    {
      "cell_type": "code",
      "source": [
        "def change(x):\n",
        "  return str.upper(x),str.lower(x)\n",
        "sequence = [\"a\",\"b\",\"c\",\"c\",\"b\",\"d\",\"a\"]\n",
        "result = map(change,sequence)\n",
        "print(set(result))"
      ],
      "metadata": {
        "colab": {
          "base_uri": "https://localhost:8080/"
        },
        "id": "rN5enTwzpJjY",
        "outputId": "0196bf17-4789-46d8-b491-a00825bd4968"
      },
      "execution_count": null,
      "outputs": [
        {
          "output_type": "stream",
          "name": "stdout",
          "text": [
            "{('A', 'a'), ('C', 'c'), ('D', 'd'), ('B', 'b')}\n"
          ]
        }
      ]
    },
    {
      "cell_type": "markdown",
      "source": [
        "9:Write a Python program to add two given lists and find the difference between\n",
        "them. Use the map() function\n"
      ],
      "metadata": {
        "id": "F6caSQM3Avmm"
      }
    },
    {
      "cell_type": "code",
      "source": [
        "def add_and_find_difference(list1,list2):\n",
        "  sum_of_list = list(map(lambda x, y: x+y, list1,list2))\n",
        "  difference_of_list = list(map(lambda x, y: y-x , list1, list2))\n",
        "  return  sum_of_list, difference_of_list\n",
        "\n",
        "list1 = [1,3,5,7,9]\n",
        "list2 = [2,4,6,8,10]\n",
        "\n",
        "sum_of_list, difference_of_list  =  add_and_find_difference(list1, list2)\n",
        "\n",
        "print(\"Sum of the list is : \",sum_of_list)\n",
        "print(\"Differece of the list is : \",difference_of_list)\n"
      ],
      "metadata": {
        "colab": {
          "base_uri": "https://localhost:8080/"
        },
        "id": "Mt0OXOJwAZ-C",
        "outputId": "12ba924d-f779-4aeb-a708-6d11efc38c40"
      },
      "execution_count": null,
      "outputs": [
        {
          "output_type": "stream",
          "name": "stdout",
          "text": [
            "Sum of the list is :  [3, 7, 11, 15, 19]\n",
            "Differece of the list is :  [1, 1, 1, 1, 1]\n"
          ]
        }
      ]
    },
    {
      "cell_type": "markdown",
      "source": [
        "10:Write a Python program to filter the height and weight of students, which are\n",
        "stored in a dictionary using lambda.\n",
        "Original Dictionary:\n",
        "{'Cierra Vega': (6.2, 71), 'Alden Cantrell': (5.9, 65), 'Kierra Gentry': (6.0, 68),\n",
        "'Pierre Cox': (5.8, 66)}\n",
        "Height> 6ft and Weight> 70kg:\n",
        "{'Cierra Vega': (6.2, 71)"
      ],
      "metadata": {
        "id": "sSYtcozBC67e"
      }
    },
    {
      "cell_type": "code",
      "source": [
        "student_data =  {'Cierra Vega': (6.2, 71), 'Alden Cantrell': (5.9, 65), 'Kierra Gentry': (6.0, 68), 'Pierre Cox': (5.8, 66)}\n",
        "filtered_data = dict(filter(lambda item: item[1][0] > 6.0 and item[1][1] > 70, student_data.items()))\n",
        "\n",
        "print(\"Original dictionary: \", student_data)\n",
        "print(\"Height> 6ft and Weight> 70kg: \", filtered_data )\n"
      ],
      "metadata": {
        "colab": {
          "base_uri": "https://localhost:8080/"
        },
        "id": "ov6qK703DD3s",
        "outputId": "94285cb9-f993-4294-c8ac-c294c7df0041"
      },
      "execution_count": null,
      "outputs": [
        {
          "output_type": "stream",
          "name": "stdout",
          "text": [
            "Original dictionary:  {'Cierra Vega': (6.2, 71), 'Alden Cantrell': (5.9, 65), 'Kierra Gentry': (6.0, 68), 'Pierre Cox': (5.8, 66)}\n",
            "Height> 6ft and Weight> 70kg:  {'Cierra Vega': (6.2, 71)}\n"
          ]
        }
      ]
    },
    {
      "cell_type": "markdown",
      "source": [
        "11:Write a Python program to remove all elements from a given list present in\n",
        "another list using lambda.\n",
        "Original lists:\n",
        "list1: [1, 2, 3, 4, 5, 6, 7, 8, 9, 10]\n",
        "list2: [2, 4, 6, 8]\n",
        "Remove all elements from 'list1' present in 'list2:\n",
        "[1, 3, 5, 7, 9, 10]\n"
      ],
      "metadata": {
        "id": "KdhSGO7jE1wc"
      }
    },
    {
      "cell_type": "code",
      "source": [
        "list1 = [1, 2, 3, 4, 5, 6, 7, 8, 9, 10]\n",
        "list2 = [2, 4, 6, 8]\n",
        "filtered_list = list(filter(lambda x: x not in list2, list1))\n",
        "print(\"filtered list is : \", filtered_list)"
      ],
      "metadata": {
        "colab": {
          "base_uri": "https://localhost:8080/"
        },
        "id": "rkg7LoDGE3X5",
        "outputId": "80f0c124-a8dd-4ac4-9550-c798c91065a9"
      },
      "execution_count": null,
      "outputs": [
        {
          "output_type": "stream",
          "name": "stdout",
          "text": [
            "filtered list is :  [1, 3, 5, 7, 9, 10]\n"
          ]
        }
      ]
    },
    {
      "cell_type": "markdown",
      "source": [
        "12:Write a Python program to calculate the product of a given list of numbers using\n",
        "lambda.\n",
        "list1: [1, 2, 3, 4, 5, 6, 7, 8, 9, 10]\n",
        "Product of the said list numbers:\n",
        "3628800"
      ],
      "metadata": {
        "id": "x2vMRCWDFu9c"
      }
    },
    {
      "cell_type": "code",
      "source": [
        "import functools\n",
        "\n",
        "list1 = [1, 2, 3, 4, 5, 6, 7, 8, 9, 10]\n",
        "product =functools.reduce(lambda x,y: x*y, list1)\n",
        "print(\"Product of the given list number :\", product)"
      ],
      "metadata": {
        "colab": {
          "base_uri": "https://localhost:8080/"
        },
        "id": "M0EOXO0xFyht",
        "outputId": "d34cf0f5-f6e7-48b4-a02f-96130f40ba56"
      },
      "execution_count": null,
      "outputs": [
        {
          "output_type": "stream",
          "name": "stdout",
          "text": [
            "Product of the given list number : 3628800\n"
          ]
        }
      ]
    },
    {
      "cell_type": "markdown",
      "source": [
        "13:Write a Python program to multiply all the numbers in a given list using lambda.\n",
        "Original list:\n",
        "[4, 3, 2, 2, -1, 18]\n",
        "Mmultiply all the numbers of the said list: -864"
      ],
      "metadata": {
        "id": "qMkWFK05HpA2"
      }
    },
    {
      "cell_type": "code",
      "source": [
        "from functools import reduce\n",
        "Original_list = [4, 3, 2, 2, -1, 18]\n",
        "\n",
        "product = reduce(lambda x,y: x*y, Original_list)\n",
        "print(\"The result is : \", product)\n"
      ],
      "metadata": {
        "colab": {
          "base_uri": "https://localhost:8080/"
        },
        "id": "kXbSFlWJH1RQ",
        "outputId": "755fc9c7-2103-4a7c-a2d6-a9de12a8690c"
      },
      "execution_count": null,
      "outputs": [
        {
          "output_type": "stream",
          "name": "stdout",
          "text": [
            "The result is :  -864\n"
          ]
        }
      ]
    },
    {
      "cell_type": "markdown",
      "source": [
        "14:Write a Python program to calculate the average value of the numbers in a given\n",
        "tuple of tuples using lambda.\n",
        "Original Tuple:\n",
        "((10, 10, 10), (30, 45, 56), (81, 80, 39), (1, 2, 3))\n",
        "Average value of the numbers of the said tuple of tuples:\n",
        "(30.5, 34.25, 27.0)\n"
      ],
      "metadata": {
        "id": "g14oHlrjI-xP"
      }
    },
    {
      "cell_type": "code",
      "source": [
        "from functools import reduce\n",
        "\n",
        "Original_Tuple = ((10, 10, 10), (30, 45, 56), (81, 80, 39), (1, 2, 3))\n",
        "new_tuple = tuple(map(lambda *avrgs : sum(avrgs)/len(avrgs), *Original_Tuple))\n",
        "print(\"Average value of the numbers : \", new_tuple)\n"
      ],
      "metadata": {
        "colab": {
          "base_uri": "https://localhost:8080/"
        },
        "id": "V_G3UxfBJDAh",
        "outputId": "979636a1-02e9-44a7-e2b1-9001b2e39079"
      },
      "execution_count": null,
      "outputs": [
        {
          "output_type": "stream",
          "name": "stdout",
          "text": [
            "Average value of the numbers :  (30.5, 34.25, 27.0)\n"
          ]
        }
      ]
    },
    {
      "cell_type": "markdown",
      "source": [
        "15:Write a Python program to sort a given mixed list of integers and strings using\n",
        "lambda. Numbers must be sorted before strings.\n",
        "Original list:\n",
        "[19, 'red', 12, 'green', 'blue', 10, 'white', 'green', 1]\n",
        "Sort the said mixed list of integers and strings:\n",
        " [1, 10, 12, 19, 'blue', 'green', 'green', 'red', 'white']"
      ],
      "metadata": {
        "id": "EAv6ZRVCL9Gy"
      }
    },
    {
      "cell_type": "code",
      "source": [
        "Original_list = [19, 'red', 12, 'green', 'blue', 10, 'white', 'green', 1]\n",
        "\n",
        "sorted_list = sorted(Original_list, key=lambda x: (isinstance(x, str), x))\n",
        "\n",
        "print(\"Sorted list is: \", sorted_list)"
      ],
      "metadata": {
        "colab": {
          "base_uri": "https://localhost:8080/"
        },
        "id": "0IszxJKfMGQ4",
        "outputId": "849300ca-5b10-4fe9-ace5-eaef7939fcbf"
      },
      "execution_count": null,
      "outputs": [
        {
          "output_type": "stream",
          "name": "stdout",
          "text": [
            "Sorted list is:  [1, 10, 12, 19, 'blue', 'green', 'green', 'red', 'white']\n"
          ]
        }
      ]
    },
    {
      "cell_type": "markdown",
      "source": [
        "16:Write a Python program to count the occurrences of items in a given list using\n",
        "lambda.\n",
        "Original list:\n",
        "[3, 4, 5, 8, 0, 3, 8, 5, 0, 3, 1, 5, 2, 3, 4, 2]\n",
        "Count the occurrences of the items in the said list:\n",
        "{3: 4, 4: 2, 5: 3, 8: 2, 0: 2, 1: 1, 2: 2}"
      ],
      "metadata": {
        "id": "NzMVpKYAO4We"
      }
    },
    {
      "cell_type": "code",
      "source": [
        "Original_list = [3, 4, 5, 8, 0, 3, 8, 5, 0, 3, 1, 5, 2, 3, 4, 2]\n",
        "\n",
        "occurrences = dict(map(lambda x: (x, Original_list.count(x)), Original_list))\n",
        "\n",
        "print(\"Occurrences : \", occurrences)"
      ],
      "metadata": {
        "colab": {
          "base_uri": "https://localhost:8080/"
        },
        "id": "oI275IlIPFPZ",
        "outputId": "2a1a96b2-7c55-49b2-da4f-4c2bb045a029"
      },
      "execution_count": null,
      "outputs": [
        {
          "output_type": "stream",
          "name": "stdout",
          "text": [
            "Occurrences :  {3: 4, 4: 2, 5: 3, 8: 2, 0: 2, 1: 1, 2: 2}\n"
          ]
        }
      ]
    },
    {
      "cell_type": "markdown",
      "source": [
        "17:Write a Python program to remove None values from a given list using the\n",
        "lambda function.\n",
        "Original list:\n",
        "[12, 0, None, 23, None, -55, 234, 89, None, 0, 6, -12]\n",
        "Remove None value from the said list:\n",
        "[12, 0, 23, -55, 234, 89, 0, 6, -12]"
      ],
      "metadata": {
        "id": "lVUXChcOQcJS"
      }
    },
    {
      "cell_type": "code",
      "source": [
        "Original_list = [12, 0, None, 23, None, -55, 234, 89, None, 0, 6, -12]\n",
        "filtered_list = list(filter(lambda x: x is not None, Original_list))\n",
        "\n",
        "print(\"The result is: \", filtered_list)"
      ],
      "metadata": {
        "colab": {
          "base_uri": "https://localhost:8080/"
        },
        "id": "Oc8TYhY_QjV0",
        "outputId": "27e4fd0d-5cdf-4d84-a26f-dfa210544994"
      },
      "execution_count": null,
      "outputs": [
        {
          "output_type": "stream",
          "name": "stdout",
          "text": [
            "The result is:  [12, 0, 23, -55, 234, 89, 0, 6, -12]\n"
          ]
        }
      ]
    }
  ]
}