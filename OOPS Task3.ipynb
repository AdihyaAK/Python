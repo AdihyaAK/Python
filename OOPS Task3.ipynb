{
  "nbformat": 4,
  "nbformat_minor": 0,
  "metadata": {
    "colab": {
      "provenance": []
    },
    "kernelspec": {
      "name": "python3",
      "display_name": "Python 3"
    },
    "language_info": {
      "name": "python"
    }
  },
  "cells": [
    {
      "cell_type": "markdown",
      "source": [
        "1. Write a Python program to create a class representing a Circle. Includemethods to calculate its area and perimeter."
      ],
      "metadata": {
        "id": "aAoVpcKgCLmz"
      }
    },
    {
      "cell_type": "code",
      "execution_count": null,
      "metadata": {
        "colab": {
          "base_uri": "https://localhost:8080/"
        },
        "id": "fR4TGPYnBp8w",
        "outputId": "cbd83756-d0f3-4fcb-9490-efbc5643e163"
      },
      "outputs": [
        {
          "output_type": "stream",
          "name": "stdout",
          "text": [
            "Radius of the circle : 6\n",
            "Area of the circle =  37.69911184307752\n",
            "Perimeter of the circle =  37.69911184307752\n"
          ]
        }
      ],
      "source": [
        "import math\n",
        "class Circle:\n",
        "\n",
        "  def __init__(self, radius):\n",
        "    self.radius = radius\n",
        "  def calculate_circle_area(self):\n",
        "    return math.pi * self.radius ** 2\n",
        "  def calculate_circle_area(self):\n",
        "    return 2 * math.pi * self.radius\n",
        "\n",
        "radius = float(input(\"Radius of the circle : \"))\n",
        "circle = Circle(radius)\n",
        "area = circle.calculate_circle_area()\n",
        "perimeter = circle.calculate_circle_area()\n",
        "print(\"Area of the circle = \", area)\n",
        "print(\"Perimeter of the circle = \", perimeter)"
      ]
    },
    {
      "cell_type": "markdown",
      "source": [
        "2. Write a Python program to create a calculator class. Include methods for basicarithmetic operations."
      ],
      "metadata": {
        "id": "bl7UKvHnCRQp"
      }
    },
    {
      "cell_type": "code",
      "source": [
        "class Calculator:\n",
        "  def add(self,num1,num2):\n",
        "    return num1+num2\n",
        "\n",
        "  def subtract(self,num1,num2):\n",
        "    return num1-num2\n",
        "\n",
        "  def multi(self,num1,num2):\n",
        "    return num1*num1\n",
        "\n",
        "  def div(self,num1,num2):\n",
        "     return num1/num2\n",
        "     if num2 == 0:\n",
        "      print(\"Cannot divide by zero\")\n",
        "\n",
        "\n",
        "num1 =float(input(\"Enter first number =\"))\n",
        "num2 = float(input(\"Enter second number = \"))\n",
        "calculator = Calculator()\n",
        "\n",
        "while operation != 0:\n",
        "  print(\"Select operations\")\n",
        "  print(\"1. Addition\\n\"\n",
        "  \"2. Subtraction\\n\"\n",
        "  \"3. Multiplication\\n\"\n",
        "  \"4. Division\\n\")\n",
        "  operation= int(input(\"Enter choice 1/2/3/4: \"))\n",
        "\n",
        "\n",
        "  if operation == 1:\n",
        "      result = calculator.add(num1,num2)\n",
        "      print(num1,\"+\",num2, \"=\", result)\n",
        "\n",
        "  elif operation == 2:\n",
        "    result = calculator.subtract(num1,num2)\n",
        "    print(num1,\"-\",num2, \"=\", result)\n",
        "\n",
        "  elif operation == 3:\n",
        "    result = calculator.multi(num1,num2)\n",
        "    print(num1,\"*\",num2, \"=\", result)\n",
        "\n",
        "  elif operation == 4:\n",
        "    result = calculator.div(num1,num2)\n",
        "    print(num1,\"/\",num2, \"=\", result)\n",
        "\n",
        "  else:\n",
        "    print(\"Invalid input\")\n",
        "\n",
        "\n",
        "\n",
        "\n"
      ],
      "metadata": {
        "id": "myo2cBjkCgH0",
        "colab": {
          "base_uri": "https://localhost:8080/"
        },
        "outputId": "f75e8e24-a35f-4b7e-b6ea-dc83c776e5e3"
      },
      "execution_count": null,
      "outputs": [
        {
          "output_type": "stream",
          "name": "stdout",
          "text": [
            "Enter first number =45\n",
            "Enter second number = 5\n",
            "Select operations\n",
            "1. Addition\n",
            "2. Subtraction\n",
            "3. Multiplication\n",
            "4. Division\n",
            "\n",
            "Enter choice 1/2/3/4: 1\n",
            "45.0 + 5.0 = 50.0\n",
            "Select operations\n",
            "1. Addition\n",
            "2. Subtraction\n",
            "3. Multiplication\n",
            "4. Division\n",
            "\n",
            "Enter choice 1/2/3/4: 2\n",
            "45.0 - 5.0 = 40.0\n",
            "Select operations\n",
            "1. Addition\n",
            "2. Subtraction\n",
            "3. Multiplication\n",
            "4. Division\n",
            "\n",
            "Enter choice 1/2/3/4: 3\n",
            "45.0 * 5.0 = 2025.0\n",
            "Select operations\n",
            "1. Addition\n",
            "2. Subtraction\n",
            "3. Multiplication\n",
            "4. Division\n",
            "\n",
            "Enter choice 1/2/3/4: 4\n",
            "45.0 / 5.0 = 9.0\n",
            "Select operations\n",
            "1. Addition\n",
            "2. Subtraction\n",
            "3. Multiplication\n",
            "4. Division\n",
            "\n",
            "Enter choice 1/2/3/4: 5\n",
            "Invalid input\n",
            "Select operations\n",
            "1. Addition\n",
            "2. Subtraction\n",
            "3. Multiplication\n",
            "4. Division\n",
            "\n",
            "Enter choice 1/2/3/4: 0\n",
            "Invalid input\n"
          ]
        }
      ]
    },
    {
      "cell_type": "markdown",
      "source": [
        "3. Write a Python program to create a class that represents a shape. Include methods to calculate its area and perimeter. Implement subclasses for different shapes like circle, triangle, and square."
      ],
      "metadata": {
        "id": "laozt84ICgsL"
      }
    },
    {
      "cell_type": "code",
      "source": [
        "import math\n",
        "\n",
        "class Shape:\n",
        "  def __init__(self):\n",
        "    pass\n",
        "  def calculate_area(self):\n",
        "    pass\n",
        "  def calculate_perimeter(self):\n",
        "    pass\n",
        "\n",
        "class Circle(Shape):\n",
        "  def __init__(self, radius):\n",
        "    self.radius = radius\n",
        "\n",
        "  def calculate_area(self):\n",
        "    return math.pi*self.radius**2\n",
        "\n",
        "  def calculate_perimeter(self):\n",
        "    return 2*math.pi*self.radius\n",
        "\n",
        "class Triangle(Shape):\n",
        "  def __init__(self,base,height,side1,side2,side3):\n",
        "    self.base = base\n",
        "    self.height = height\n",
        "    self.side1 = side1\n",
        "    self.side2 = side2\n",
        "    self.side3 = side3\n",
        "  def calculate_area(self):\n",
        "    return 0.5*self.base*self.height\n",
        "\n",
        "  def calculate_perimeter(self):\n",
        "    return self.side1+self.side2+self.side3\n",
        "\n",
        "class Square(Shape):\n",
        "  def __init__(self,side):\n",
        "    self.side = side\n",
        "  def calculate_area(self):\n",
        "    return self.side**2\n",
        "  def calculate_perimeter(self):\n",
        "    return 4*self.side\n",
        "\n",
        "radius = float(input(\"Enter the radius of the circle : \"))\n",
        "circle = Circle(radius)\n",
        "print(\"Area of the circle = \", circle.calculate_area())\n",
        "print(\"Perimeter of the circle = \", circle.calculate_perimeter())\n",
        "\n",
        "base = float(input(\"base = \"))\n",
        "height = float(input(\"height = \"))\n",
        "side1 = float(input(\"Side1 = \"))\n",
        "side2 = float(input(\"Side2 = \"))\n",
        "side3 = float(input(\"Side3 = \"))\n",
        "triangle = Triangle(base,height,side1,side2,side3)\n",
        "print(\"Area of the triangle = \",triangle.calculate_area())\n",
        "print(\"Perimeter of the triangle = \", triangle.calculate_perimeter())\n",
        "\n",
        "side = float(input(\"Length of the side = \"))\n",
        "square = Square(side)\n",
        "print(\"Area of the square = \",square.calculate_area())\n",
        "print(\"Perimeter of the square = \",square.calculate_perimeter())\n",
        "\n"
      ],
      "metadata": {
        "colab": {
          "base_uri": "https://localhost:8080/"
        },
        "id": "LzXiQ0yOQ9Hw",
        "outputId": "ed970aed-54fd-47f0-f375-5ed050c644bc"
      },
      "execution_count": 2,
      "outputs": [
        {
          "output_type": "stream",
          "name": "stdout",
          "text": [
            "Enter the radius of the circle : 6\n",
            "Area of the circle =  113.09733552923255\n",
            "Perimeter of the circle =  37.69911184307752\n",
            "base = 5\n",
            "height = 9\n",
            "Side1 = 7\n",
            "Side2 = 5\n",
            "Side3 = 8\n",
            "Area of the triangle =  22.5\n",
            "Perimeter of the triangle =  20.0\n",
            "Length of the side = 12\n",
            "Area of the square =  144.0\n",
            "Perimeter of the square =  48.0\n"
          ]
        }
      ]
    },
    {
      "cell_type": "markdown",
      "source": [],
      "metadata": {
        "id": "tD8ANJzpLikH"
      }
    }
  ]
}
